{
 "cells": [
  {
   "cell_type": "code",
   "execution_count": null,
   "id": "b7e53d03-2b73-4a1f-8623-d3daa6cab5fe",
   "metadata": {},
   "outputs": [],
   "source": [
    "def AND(x1, x2): \n",
    "    w1, w2, theta = 0.5, 0.5, 0.7\n",
    "    tmp = x1*w1 + x2*w2\n",
    "    if tmp <= theta:\n",
    "        return 0\n",
    "    elif tmp > theta:\n",
    "        return 1\n",
    "    \n",
    "#AND(0, 0)\n",
    "#AND(1, 0)\n",
    "#AND(0, 1)\n",
    "AND(1, 1)"
   ]
  }
 ],
 "metadata": {
  "kernelspec": {
   "display_name": "Python 3 (ipykernel)",
   "language": "python",
   "name": "python3"
  },
  "language_info": {
   "codemirror_mode": {
    "name": "ipython",
    "version": 3
   },
   "file_extension": ".py",
   "mimetype": "text/x-python",
   "name": "python",
   "nbconvert_exporter": "python",
   "pygments_lexer": "ipython3",
   "version": "3.7.4"
  }
 },
 "nbformat": 4,
 "nbformat_minor": 5
}
